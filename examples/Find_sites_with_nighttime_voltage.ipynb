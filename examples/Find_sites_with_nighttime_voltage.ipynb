{
 "cells": [
  {
   "cell_type": "code",
   "execution_count": 5,
   "metadata": {},
   "outputs": [],
   "source": [
    "import numpy as np\n",
    "import pandas as pd\n",
    "import matplotlib.pyplot as plt\n",
    "import json\n",
    "from time import time\n",
    "\n",
    "import sys\n",
    "sys.path.append('..')\n",
    "from pvpro import PvProHandler\n",
    "from solardatatools import DataHandler\n",
    "from solardatatools.utilities import progress"
   ]
  },
  {
   "cell_type": "code",
   "execution_count": 2,
   "metadata": {},
   "outputs": [],
   "source": [
    "def load_constellation_data(file_id, location='s3://pv.insight.misc/pv_fleets/',\n",
    "                            data_fn_pattern='{}_20201006_composite.csv',\n",
    "                            index_col=0, parse_dates=[0], json_file=False):\n",
    "    df = pd.read_csv(location + data_fn_pattern.format(file_id), index_col=index_col, parse_dates=parse_dates)\n",
    "\n",
    "    if json_file:\n",
    "        try:\n",
    "            from smart_open import smart_open\n",
    "        except ImportError:\n",
    "            print('Please install smart_open in your Python environment to use this function')\n",
    "            return\n",
    "        for line in smart_open(location + str(file_id) + '_system_details.json', 'rb'):\n",
    "            file_json = json.loads(line)\n",
    "            file_json\n",
    "        return df, file_json\n",
    "    return df"
   ]
  },
  {
   "cell_type": "code",
   "execution_count": 3,
   "metadata": {},
   "outputs": [],
   "source": [
    "site_ids = np.arange(5000, 5517)"
   ]
  },
  {
   "cell_type": "code",
   "execution_count": 17,
   "metadata": {},
   "outputs": [
    {
     "name": "stdout",
     "output_type": "stream",
     "text": [
      "[=================-------------------------------------------] 27.7% ...14.30 minutes\r"
     ]
    },
    {
     "name": "stderr",
     "output_type": "stream",
     "text": [
      "/Users/bennetmeyers/miniconda3/envs/pvpro-dev/lib/python3.7/site-packages/numpy/lib/nanfunctions.py:1665: RuntimeWarning: Degrees of freedom <= 0 for slice.\n",
      "  keepdims=keepdims)\n"
     ]
    },
    {
     "name": "stdout",
     "output_type": "stream",
     "text": [
      "[============================================================] 100.0% ...DONE! 46.75 minutes\r"
     ]
    }
   ],
   "source": [
    "sys_ix = 0\n",
    "metrics = np.zeros_like(site_ids, dtype=np.float)\n",
    "ti = time()\n",
    "for ix, sid in enumerate(site_ids):\n",
    "    tf = time()\n",
    "    progress(ix, len(site_ids), '{:.2f} minutes'.format((tf - ti) / 60))\n",
    "    try:\n",
    "        df = load_constellation_data(sid, json_file=False)\n",
    "        volt_cols = [i for i in df.columns if 'dc_volt' in i]\n",
    "        pow_cols = [i for i in df.columns if 'dc_pow' in i]\n",
    "    #     curr_cols = [i for i in df.columns if 'dc_cur' in i]\n",
    "    #     irr_cols = [i for i in df.columns if 'poa' in i]\n",
    "    #     modT_cols = [i for i in df.columns if 'temperature_module' in i]\n",
    "        dh = DataHandler(df)\n",
    "        dh.run_pipeline(power_col=pow_cols[sys_ix], extra_cols=[volt_cols[sys_ix]], fix_dst=True, verbose=False)\n",
    "        metric = np.nanstd(dh.extra_matrices[volt_cols[sys_ix]][0])\n",
    "    except:\n",
    "        metric = np.nan\n",
    "    metrics[ix] = metric\n",
    "tf = time()\n",
    "progress(ix + 1, len(site_ids), 'DONE! {:.2f} minutes'.format((tf - ti) / 60))"
   ]
  },
  {
   "cell_type": "code",
   "execution_count": 21,
   "metadata": {},
   "outputs": [
    {
     "data": {
      "image/png": "[encoded data removed]",
      "text/plain": [
       "<Figure size 432x288 with 1 Axes>"
      ]
     },
     "metadata": {},
     "output_type": "display_data"
    }
   ],
   "source": [
    "plt.plot(site_ids, metrics, marker='.', ls='none')\n",
    "plt.yscale('log');"
   ]
  },
  {
   "cell_type": "code",
   "execution_count": 26,
   "metadata": {},
   "outputs": [
    {
     "data": {
      "text/plain": [
       "[(5473, 279.2699128749861),\n",
       " (5306, 100.45662144826743),\n",
       " (5045, 49.5089306515696),\n",
       " (5053, 24.30609329003767),\n",
       " (5021, 20.928057453797514),\n",
       " (5032, 18.65737773216968),\n",
       " (5449, 16.843224373274467),\n",
       " (5317, 15.091783936803992),\n",
       " (5297, 14.63246177752226),\n",
       " (5298, 12.792056907015981),\n",
       " (5299, 11.450035103842849),\n",
       " (5047, 11.392435690238477),\n",
       " (5302, 10.821468552414863),\n",
       " (5033, 10.205761572227898),\n",
       " (5019, 9.688940125786734),\n",
       " (5009, 9.676759988831082),\n",
       " (5116, 9.131373116927614),\n",
       " (5300, 8.953072106332746),\n",
       " (5058, 8.555654843131446),\n",
       " (5212, 8.364810897508834),\n",
       " (5511, 8.200023610242457),\n",
       " (5236, 8.107368700582379),\n",
       " (5010, 7.476753782206193),\n",
       " (5316, 6.3768381951937885),\n",
       " (5041, 6.109806208546486),\n",
       " (5040, 6.090774211487923),\n",
       " (5137, 6.011217454286411),\n",
       " (5031, 5.721998236095986),\n",
       " (5023, 5.696229947834443),\n",
       " (5046, 5.621793910283707),\n",
       " (5125, 5.55616054403124),\n",
       " (5482, 5.520075104254719),\n",
       " (5022, 5.4872659701605855),\n",
       " (5397, 5.444683564266219),\n",
       " (5000, 5.428535443429857),\n",
       " (5466, 5.3404728341763805),\n",
       " (5464, 4.824287318955414),\n",
       " (5202, 4.706946553371911),\n",
       " (5213, 4.015930386622947),\n",
       " (5006, 3.8781158546360093),\n",
       " (5436, 3.58051150366373),\n",
       " (5024, 3.484566308780756),\n",
       " (5055, 3.345869388007345),\n",
       " (5107, 3.19703114118855),\n",
       " (5057, 3.1688169633751486),\n",
       " (5144, 2.7972389050160857),\n",
       " (5467, 2.08931084976882),\n",
       " (5481, 1.394458828677502),\n",
       " (5061, 1.2809361560969625),\n",
       " (5044, 1.1387920185774636)]"
      ]
     },
     "execution_count": 26,
     "metadata": {},
     "output_type": "execute_result"
    }
   ],
   "source": [
    "metrics_filled = np.nan_to_num(metrics, nan=-9999)\n",
    "argst = np.argsort(metrics_filled)\n",
    "list(zip(site_ids[argst][::-1][:50], metrics_filled[argst][::-1][:50]))"
   ]
  },
  {
   "cell_type": "code",
   "execution_count": 27,
   "metadata": {},
   "outputs": [
    {
     "data": {
      "text/plain": [
       "517"
      ]
     },
     "execution_count": 27,
     "metadata": {},
     "output_type": "execute_result"
    }
   ],
   "source": [
    "len(metrics_filled)"
   ]
  },
  {
   "cell_type": "code",
   "execution_count": null,
   "metadata": {},
   "outputs": [],
   "source": [
    "lunar_signals = [5317]"
   ]
  }
 ],
 "metadata": {
  "kernelspec": {
   "display_name": "Python 3",
   "language": "python",
   "name": "python3"
  },
  "language_info": {
   "codemirror_mode": {
    "name": "ipython",
    "version": 3
   },
   "file_extension": ".py",
   "mimetype": "text/x-python",
   "name": "python",
   "nbconvert_exporter": "python",
   "pygments_lexer": "ipython3",
   "version": "3.7.6"
  }
 },
 "nbformat": 4,
 "nbformat_minor": 4
}
